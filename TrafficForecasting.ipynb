{
  "nbformat": 4,
  "nbformat_minor": 0,
  "metadata": {
    "colab": {
      "provenance": []
    },
    "kernelspec": {
      "name": "python3",
      "display_name": "Python 3"
    },
    "language_info": {
      "name": "python"
    }
  },
  "cells": [
    {
      "cell_type": "code",
      "source": [
        "from google.colab import drive\n",
        "drive.mount('/content/drive')"
      ],
      "metadata": {
        "id": "cMdctdsAqpV9",
        "colab": {
          "base_uri": "https://localhost:8080/"
        },
        "outputId": "98efee86-df1e-4bd5-9706-6eb6237bd8fc"
      },
      "execution_count": 2,
      "outputs": [
        {
          "output_type": "stream",
          "name": "stdout",
          "text": [
            "Mounted at /content/drive\n"
          ]
        }
      ]
    },
    {
      "cell_type": "code",
      "source": [
        "# Import libraries \n",
        "import matplotlib.pyplot as plt\n",
        "import pandas as pd\n",
        "import numpy as np\n",
        "import os \n",
        "import datetime\n",
        "from datetime import timedelta\n",
        "import seaborn as sns\n",
        "from sklearn.metrics import mean_squared_error"
      ],
      "metadata": {
        "id": "DDewn2JGry0f"
      },
      "execution_count": 3,
      "outputs": []
    },
    {
      "cell_type": "code",
      "source": [
        "df = pd.read_csv(\"/content/drive/MyDrive/Colab Notebooks/TrafficForecasting/comptages-routiers-permanents.csv\", sep=';')"
      ],
      "metadata": {
        "id": "OU2XFCG3lrmw"
      },
      "execution_count": 4,
      "outputs": []
    },
    {
      "cell_type": "code",
      "source": [
        "relevant_features = [\"Date et heure de comptage\", \"Libelle\", \"Débit horaire\", \"Taux d'occupation\", \"Etat trafic\"]\n",
        "df_ = df[relevant_features]"
      ],
      "metadata": {
        "id": "YY1A33-gkeTn"
      },
      "execution_count": 5,
      "outputs": []
    },
    {
      "cell_type": "code",
      "source": [
        "df_[\"datetime\"] = pd.to_datetime(df_[\"Date et heure de comptage\"].astype(str), format='%Y%m%d %H:%M:%S', utc=False)\n",
        "df_[\"datetime_utc\"] = pd.to_datetime(df_[\"Date et heure de comptage\"].astype(str), format='%Y%m%d %H:%M:%S', utc=True)\n",
        "df_[\"date_utc\"] = pd.to_datetime(df_[\"Date et heure de comptage\"].astype(str), format='%Y%m%d %H:%M:%S', utc=True).dt.date\n",
        "df_[\"time_utc\"] = pd.to_datetime(df_[\"Date et heure de comptage\"].astype(str), format='%Y%m%d %H:%M:%S', utc=True).dt.time\n",
        "df_[\"weekday_utc\"] = pd.to_datetime(df_[\"Date et heure de comptage\"].astype(str), format='%Y%m%d %H:%M:%S', utc=True).dt.day_name()\n",
        "df_.drop(columns=[\"Date et heure de comptage\"], inplace=True)"
      ],
      "metadata": {
        "colab": {
          "base_uri": "https://localhost:8080/"
        },
        "id": "RryZSH7skRX-",
        "outputId": "f36e7f3b-351e-4746-c194-dbf3a2c949a9"
      },
      "execution_count": 6,
      "outputs": [
        {
          "output_type": "stream",
          "name": "stderr",
          "text": [
            "<ipython-input-6-4904461fcc34>:1: SettingWithCopyWarning: \n",
            "A value is trying to be set on a copy of a slice from a DataFrame.\n",
            "Try using .loc[row_indexer,col_indexer] = value instead\n",
            "\n",
            "See the caveats in the documentation: https://pandas.pydata.org/pandas-docs/stable/user_guide/indexing.html#returning-a-view-versus-a-copy\n",
            "  df_[\"datetime\"] = pd.to_datetime(df_[\"Date et heure de comptage\"].astype(str), format='%Y%m%d %H:%M:%S', utc=False)\n",
            "<ipython-input-6-4904461fcc34>:2: SettingWithCopyWarning: \n",
            "A value is trying to be set on a copy of a slice from a DataFrame.\n",
            "Try using .loc[row_indexer,col_indexer] = value instead\n",
            "\n",
            "See the caveats in the documentation: https://pandas.pydata.org/pandas-docs/stable/user_guide/indexing.html#returning-a-view-versus-a-copy\n",
            "  df_[\"datetime_utc\"] = pd.to_datetime(df_[\"Date et heure de comptage\"].astype(str), format='%Y%m%d %H:%M:%S', utc=True)\n",
            "<ipython-input-6-4904461fcc34>:3: SettingWithCopyWarning: \n",
            "A value is trying to be set on a copy of a slice from a DataFrame.\n",
            "Try using .loc[row_indexer,col_indexer] = value instead\n",
            "\n",
            "See the caveats in the documentation: https://pandas.pydata.org/pandas-docs/stable/user_guide/indexing.html#returning-a-view-versus-a-copy\n",
            "  df_[\"date_utc\"] = pd.to_datetime(df_[\"Date et heure de comptage\"].astype(str), format='%Y%m%d %H:%M:%S', utc=True).dt.date\n",
            "<ipython-input-6-4904461fcc34>:4: SettingWithCopyWarning: \n",
            "A value is trying to be set on a copy of a slice from a DataFrame.\n",
            "Try using .loc[row_indexer,col_indexer] = value instead\n",
            "\n",
            "See the caveats in the documentation: https://pandas.pydata.org/pandas-docs/stable/user_guide/indexing.html#returning-a-view-versus-a-copy\n",
            "  df_[\"time_utc\"] = pd.to_datetime(df_[\"Date et heure de comptage\"].astype(str), format='%Y%m%d %H:%M:%S', utc=True).dt.time\n",
            "<ipython-input-6-4904461fcc34>:5: SettingWithCopyWarning: \n",
            "A value is trying to be set on a copy of a slice from a DataFrame.\n",
            "Try using .loc[row_indexer,col_indexer] = value instead\n",
            "\n",
            "See the caveats in the documentation: https://pandas.pydata.org/pandas-docs/stable/user_guide/indexing.html#returning-a-view-versus-a-copy\n",
            "  df_[\"weekday_utc\"] = pd.to_datetime(df_[\"Date et heure de comptage\"].astype(str), format='%Y%m%d %H:%M:%S', utc=True).dt.day_name()\n",
            "/usr/local/lib/python3.8/dist-packages/pandas/core/frame.py:4906: SettingWithCopyWarning: \n",
            "A value is trying to be set on a copy of a slice from a DataFrame\n",
            "\n",
            "See the caveats in the documentation: https://pandas.pydata.org/pandas-docs/stable/user_guide/indexing.html#returning-a-view-versus-a-copy\n",
            "  return super().drop(\n"
          ]
        }
      ]
    },
    {
      "cell_type": "code",
      "source": [
        "df_"
      ],
      "metadata": {
        "colab": {
          "base_uri": "https://localhost:8080/",
          "height": 424
        },
        "id": "BYO9SKSDJPO0",
        "outputId": "bba4cf3d-4605-4f46-a4e5-16f98e321ba8"
      },
      "execution_count": 7,
      "outputs": [
        {
          "output_type": "execute_result",
          "data": {
            "text/plain": [
              "                Libelle  Débit horaire  Taux d'occupation Etat trafic  \\\n",
              "0     AV_Champs_Elysees         1120.0           49.90000      Saturé   \n",
              "1     AV_Champs_Elysees         1024.0           13.06278      Fluide   \n",
              "2     AV_Champs_Elysees         1141.0           17.64834  Pré-saturé   \n",
              "3     AV_Champs_Elysees         1132.0           30.02667      Saturé   \n",
              "4     AV_Champs_Elysees         1226.0           31.65889      Saturé   \n",
              "...                 ...            ...                ...         ...   \n",
              "9157  AV_Champs_Elysees          396.0            4.35834      Fluide   \n",
              "9158  AV_Champs_Elysees          274.0            3.19278      Fluide   \n",
              "9159  AV_Champs_Elysees          431.0            5.57778      Fluide   \n",
              "9160  AV_Champs_Elysees          526.0            7.41333      Fluide   \n",
              "9161  AV_Champs_Elysees          796.0           14.38444      Fluide   \n",
              "\n",
              "                       datetime              datetime_utc    date_utc  \\\n",
              "0     2022-06-17 16:00:00+02:00 2022-06-17 14:00:00+00:00  2022-06-17   \n",
              "1     2021-12-14 00:00:00+01:00 2021-12-13 23:00:00+00:00  2021-12-13   \n",
              "2     2021-12-13 23:00:00+01:00 2021-12-13 22:00:00+00:00  2021-12-13   \n",
              "3     2021-12-13 20:00:00+01:00 2021-12-13 19:00:00+00:00  2021-12-13   \n",
              "4     2021-12-13 19:00:00+01:00 2021-12-13 18:00:00+00:00  2021-12-13   \n",
              "...                         ...                       ...         ...   \n",
              "9157  2022-09-01 03:00:00+02:00 2022-09-01 01:00:00+00:00  2022-09-01   \n",
              "9158  2022-08-01 04:00:00+02:00 2022-08-01 02:00:00+00:00  2022-08-01   \n",
              "9159  2022-08-01 03:00:00+02:00 2022-08-01 01:00:00+00:00  2022-08-01   \n",
              "9160  2022-08-01 02:00:00+02:00 2022-08-01 00:00:00+00:00  2022-08-01   \n",
              "9161  2022-08-01 01:00:00+02:00 2022-07-31 23:00:00+00:00  2022-07-31   \n",
              "\n",
              "      time_utc weekday_utc  \n",
              "0     14:00:00      Friday  \n",
              "1     23:00:00      Monday  \n",
              "2     22:00:00      Monday  \n",
              "3     19:00:00      Monday  \n",
              "4     18:00:00      Monday  \n",
              "...        ...         ...  \n",
              "9157  01:00:00    Thursday  \n",
              "9158  02:00:00      Monday  \n",
              "9159  01:00:00      Monday  \n",
              "9160  00:00:00      Monday  \n",
              "9161  23:00:00      Sunday  \n",
              "\n",
              "[9162 rows x 9 columns]"
            ],
            "text/html": [
              "\n",
              "  <div id=\"df-d4ba4af5-d917-4b61-ab79-d3b171982c28\">\n",
              "    <div class=\"colab-df-container\">\n",
              "      <div>\n",
              "<style scoped>\n",
              "    .dataframe tbody tr th:only-of-type {\n",
              "        vertical-align: middle;\n",
              "    }\n",
              "\n",
              "    .dataframe tbody tr th {\n",
              "        vertical-align: top;\n",
              "    }\n",
              "\n",
              "    .dataframe thead th {\n",
              "        text-align: right;\n",
              "    }\n",
              "</style>\n",
              "<table border=\"1\" class=\"dataframe\">\n",
              "  <thead>\n",
              "    <tr style=\"text-align: right;\">\n",
              "      <th></th>\n",
              "      <th>Libelle</th>\n",
              "      <th>Débit horaire</th>\n",
              "      <th>Taux d'occupation</th>\n",
              "      <th>Etat trafic</th>\n",
              "      <th>datetime</th>\n",
              "      <th>datetime_utc</th>\n",
              "      <th>date_utc</th>\n",
              "      <th>time_utc</th>\n",
              "      <th>weekday_utc</th>\n",
              "    </tr>\n",
              "  </thead>\n",
              "  <tbody>\n",
              "    <tr>\n",
              "      <th>0</th>\n",
              "      <td>AV_Champs_Elysees</td>\n",
              "      <td>1120.0</td>\n",
              "      <td>49.90000</td>\n",
              "      <td>Saturé</td>\n",
              "      <td>2022-06-17 16:00:00+02:00</td>\n",
              "      <td>2022-06-17 14:00:00+00:00</td>\n",
              "      <td>2022-06-17</td>\n",
              "      <td>14:00:00</td>\n",
              "      <td>Friday</td>\n",
              "    </tr>\n",
              "    <tr>\n",
              "      <th>1</th>\n",
              "      <td>AV_Champs_Elysees</td>\n",
              "      <td>1024.0</td>\n",
              "      <td>13.06278</td>\n",
              "      <td>Fluide</td>\n",
              "      <td>2021-12-14 00:00:00+01:00</td>\n",
              "      <td>2021-12-13 23:00:00+00:00</td>\n",
              "      <td>2021-12-13</td>\n",
              "      <td>23:00:00</td>\n",
              "      <td>Monday</td>\n",
              "    </tr>\n",
              "    <tr>\n",
              "      <th>2</th>\n",
              "      <td>AV_Champs_Elysees</td>\n",
              "      <td>1141.0</td>\n",
              "      <td>17.64834</td>\n",
              "      <td>Pré-saturé</td>\n",
              "      <td>2021-12-13 23:00:00+01:00</td>\n",
              "      <td>2021-12-13 22:00:00+00:00</td>\n",
              "      <td>2021-12-13</td>\n",
              "      <td>22:00:00</td>\n",
              "      <td>Monday</td>\n",
              "    </tr>\n",
              "    <tr>\n",
              "      <th>3</th>\n",
              "      <td>AV_Champs_Elysees</td>\n",
              "      <td>1132.0</td>\n",
              "      <td>30.02667</td>\n",
              "      <td>Saturé</td>\n",
              "      <td>2021-12-13 20:00:00+01:00</td>\n",
              "      <td>2021-12-13 19:00:00+00:00</td>\n",
              "      <td>2021-12-13</td>\n",
              "      <td>19:00:00</td>\n",
              "      <td>Monday</td>\n",
              "    </tr>\n",
              "    <tr>\n",
              "      <th>4</th>\n",
              "      <td>AV_Champs_Elysees</td>\n",
              "      <td>1226.0</td>\n",
              "      <td>31.65889</td>\n",
              "      <td>Saturé</td>\n",
              "      <td>2021-12-13 19:00:00+01:00</td>\n",
              "      <td>2021-12-13 18:00:00+00:00</td>\n",
              "      <td>2021-12-13</td>\n",
              "      <td>18:00:00</td>\n",
              "      <td>Monday</td>\n",
              "    </tr>\n",
              "    <tr>\n",
              "      <th>...</th>\n",
              "      <td>...</td>\n",
              "      <td>...</td>\n",
              "      <td>...</td>\n",
              "      <td>...</td>\n",
              "      <td>...</td>\n",
              "      <td>...</td>\n",
              "      <td>...</td>\n",
              "      <td>...</td>\n",
              "      <td>...</td>\n",
              "    </tr>\n",
              "    <tr>\n",
              "      <th>9157</th>\n",
              "      <td>AV_Champs_Elysees</td>\n",
              "      <td>396.0</td>\n",
              "      <td>4.35834</td>\n",
              "      <td>Fluide</td>\n",
              "      <td>2022-09-01 03:00:00+02:00</td>\n",
              "      <td>2022-09-01 01:00:00+00:00</td>\n",
              "      <td>2022-09-01</td>\n",
              "      <td>01:00:00</td>\n",
              "      <td>Thursday</td>\n",
              "    </tr>\n",
              "    <tr>\n",
              "      <th>9158</th>\n",
              "      <td>AV_Champs_Elysees</td>\n",
              "      <td>274.0</td>\n",
              "      <td>3.19278</td>\n",
              "      <td>Fluide</td>\n",
              "      <td>2022-08-01 04:00:00+02:00</td>\n",
              "      <td>2022-08-01 02:00:00+00:00</td>\n",
              "      <td>2022-08-01</td>\n",
              "      <td>02:00:00</td>\n",
              "      <td>Monday</td>\n",
              "    </tr>\n",
              "    <tr>\n",
              "      <th>9159</th>\n",
              "      <td>AV_Champs_Elysees</td>\n",
              "      <td>431.0</td>\n",
              "      <td>5.57778</td>\n",
              "      <td>Fluide</td>\n",
              "      <td>2022-08-01 03:00:00+02:00</td>\n",
              "      <td>2022-08-01 01:00:00+00:00</td>\n",
              "      <td>2022-08-01</td>\n",
              "      <td>01:00:00</td>\n",
              "      <td>Monday</td>\n",
              "    </tr>\n",
              "    <tr>\n",
              "      <th>9160</th>\n",
              "      <td>AV_Champs_Elysees</td>\n",
              "      <td>526.0</td>\n",
              "      <td>7.41333</td>\n",
              "      <td>Fluide</td>\n",
              "      <td>2022-08-01 02:00:00+02:00</td>\n",
              "      <td>2022-08-01 00:00:00+00:00</td>\n",
              "      <td>2022-08-01</td>\n",
              "      <td>00:00:00</td>\n",
              "      <td>Monday</td>\n",
              "    </tr>\n",
              "    <tr>\n",
              "      <th>9161</th>\n",
              "      <td>AV_Champs_Elysees</td>\n",
              "      <td>796.0</td>\n",
              "      <td>14.38444</td>\n",
              "      <td>Fluide</td>\n",
              "      <td>2022-08-01 01:00:00+02:00</td>\n",
              "      <td>2022-07-31 23:00:00+00:00</td>\n",
              "      <td>2022-07-31</td>\n",
              "      <td>23:00:00</td>\n",
              "      <td>Sunday</td>\n",
              "    </tr>\n",
              "  </tbody>\n",
              "</table>\n",
              "<p>9162 rows × 9 columns</p>\n",
              "</div>\n",
              "      <button class=\"colab-df-convert\" onclick=\"convertToInteractive('df-d4ba4af5-d917-4b61-ab79-d3b171982c28')\"\n",
              "              title=\"Convert this dataframe to an interactive table.\"\n",
              "              style=\"display:none;\">\n",
              "        \n",
              "  <svg xmlns=\"http://www.w3.org/2000/svg\" height=\"24px\"viewBox=\"0 0 24 24\"\n",
              "       width=\"24px\">\n",
              "    <path d=\"M0 0h24v24H0V0z\" fill=\"none\"/>\n",
              "    <path d=\"M18.56 5.44l.94 2.06.94-2.06 2.06-.94-2.06-.94-.94-2.06-.94 2.06-2.06.94zm-11 1L8.5 8.5l.94-2.06 2.06-.94-2.06-.94L8.5 2.5l-.94 2.06-2.06.94zm10 10l.94 2.06.94-2.06 2.06-.94-2.06-.94-.94-2.06-.94 2.06-2.06.94z\"/><path d=\"M17.41 7.96l-1.37-1.37c-.4-.4-.92-.59-1.43-.59-.52 0-1.04.2-1.43.59L10.3 9.45l-7.72 7.72c-.78.78-.78 2.05 0 2.83L4 21.41c.39.39.9.59 1.41.59.51 0 1.02-.2 1.41-.59l7.78-7.78 2.81-2.81c.8-.78.8-2.07 0-2.86zM5.41 20L4 18.59l7.72-7.72 1.47 1.35L5.41 20z\"/>\n",
              "  </svg>\n",
              "      </button>\n",
              "      \n",
              "  <style>\n",
              "    .colab-df-container {\n",
              "      display:flex;\n",
              "      flex-wrap:wrap;\n",
              "      gap: 12px;\n",
              "    }\n",
              "\n",
              "    .colab-df-convert {\n",
              "      background-color: #E8F0FE;\n",
              "      border: none;\n",
              "      border-radius: 50%;\n",
              "      cursor: pointer;\n",
              "      display: none;\n",
              "      fill: #1967D2;\n",
              "      height: 32px;\n",
              "      padding: 0 0 0 0;\n",
              "      width: 32px;\n",
              "    }\n",
              "\n",
              "    .colab-df-convert:hover {\n",
              "      background-color: #E2EBFA;\n",
              "      box-shadow: 0px 1px 2px rgba(60, 64, 67, 0.3), 0px 1px 3px 1px rgba(60, 64, 67, 0.15);\n",
              "      fill: #174EA6;\n",
              "    }\n",
              "\n",
              "    [theme=dark] .colab-df-convert {\n",
              "      background-color: #3B4455;\n",
              "      fill: #D2E3FC;\n",
              "    }\n",
              "\n",
              "    [theme=dark] .colab-df-convert:hover {\n",
              "      background-color: #434B5C;\n",
              "      box-shadow: 0px 1px 3px 1px rgba(0, 0, 0, 0.15);\n",
              "      filter: drop-shadow(0px 1px 2px rgba(0, 0, 0, 0.3));\n",
              "      fill: #FFFFFF;\n",
              "    }\n",
              "  </style>\n",
              "\n",
              "      <script>\n",
              "        const buttonEl =\n",
              "          document.querySelector('#df-d4ba4af5-d917-4b61-ab79-d3b171982c28 button.colab-df-convert');\n",
              "        buttonEl.style.display =\n",
              "          google.colab.kernel.accessAllowed ? 'block' : 'none';\n",
              "\n",
              "        async function convertToInteractive(key) {\n",
              "          const element = document.querySelector('#df-d4ba4af5-d917-4b61-ab79-d3b171982c28');\n",
              "          const dataTable =\n",
              "            await google.colab.kernel.invokeFunction('convertToInteractive',\n",
              "                                                     [key], {});\n",
              "          if (!dataTable) return;\n",
              "\n",
              "          const docLinkHtml = 'Like what you see? Visit the ' +\n",
              "            '<a target=\"_blank\" href=https://colab.research.google.com/notebooks/data_table.ipynb>data table notebook</a>'\n",
              "            + ' to learn more about interactive tables.';\n",
              "          element.innerHTML = '';\n",
              "          dataTable['output_type'] = 'display_data';\n",
              "          await google.colab.output.renderOutput(dataTable, element);\n",
              "          const docLink = document.createElement('div');\n",
              "          docLink.innerHTML = docLinkHtml;\n",
              "          element.appendChild(docLink);\n",
              "        }\n",
              "      </script>\n",
              "    </div>\n",
              "  </div>\n",
              "  "
            ]
          },
          "metadata": {},
          "execution_count": 7
        }
      ]
    },
    {
      "cell_type": "code",
      "source": [
        "df_.set_index('datetime', drop=True, append=False, inplace=True, verify_integrity=False)\n",
        "df_ = df_.sort_index()"
      ],
      "metadata": {
        "id": "nLSjcHupkMNI"
      },
      "execution_count": 8,
      "outputs": []
    },
    {
      "cell_type": "code",
      "source": [
        "## use this to fill na values \n",
        "df_[[\"time_utc\", \"weekday_utc\", \"Débit horaire\"]].groupby([\"weekday_utc\", \"time_utc\"]).median()"
      ],
      "metadata": {
        "colab": {
          "base_uri": "https://localhost:8080/",
          "height": 455
        },
        "id": "M0iToqY6jz5u",
        "outputId": "435fe4d1-55fe-4938-ec7a-8b2cd8929c6f"
      },
      "execution_count": 9,
      "outputs": [
        {
          "output_type": "execute_result",
          "data": {
            "text/plain": [
              "                      Débit horaire\n",
              "weekday_utc time_utc               \n",
              "Friday      00:00:00          712.0\n",
              "            01:00:00          608.0\n",
              "            02:00:00          414.0\n",
              "            03:00:00          304.0\n",
              "            04:00:00          335.0\n",
              "...                             ...\n",
              "Wednesday   19:00:00         1067.0\n",
              "            20:00:00          915.0\n",
              "            21:00:00          833.0\n",
              "            22:00:00          774.0\n",
              "            23:00:00          730.0\n",
              "\n",
              "[168 rows x 1 columns]"
            ],
            "text/html": [
              "\n",
              "  <div id=\"df-bbc480c7-904e-4f09-a0da-b6fb6bd4f32a\">\n",
              "    <div class=\"colab-df-container\">\n",
              "      <div>\n",
              "<style scoped>\n",
              "    .dataframe tbody tr th:only-of-type {\n",
              "        vertical-align: middle;\n",
              "    }\n",
              "\n",
              "    .dataframe tbody tr th {\n",
              "        vertical-align: top;\n",
              "    }\n",
              "\n",
              "    .dataframe thead th {\n",
              "        text-align: right;\n",
              "    }\n",
              "</style>\n",
              "<table border=\"1\" class=\"dataframe\">\n",
              "  <thead>\n",
              "    <tr style=\"text-align: right;\">\n",
              "      <th></th>\n",
              "      <th></th>\n",
              "      <th>Débit horaire</th>\n",
              "    </tr>\n",
              "    <tr>\n",
              "      <th>weekday_utc</th>\n",
              "      <th>time_utc</th>\n",
              "      <th></th>\n",
              "    </tr>\n",
              "  </thead>\n",
              "  <tbody>\n",
              "    <tr>\n",
              "      <th rowspan=\"5\" valign=\"top\">Friday</th>\n",
              "      <th>00:00:00</th>\n",
              "      <td>712.0</td>\n",
              "    </tr>\n",
              "    <tr>\n",
              "      <th>01:00:00</th>\n",
              "      <td>608.0</td>\n",
              "    </tr>\n",
              "    <tr>\n",
              "      <th>02:00:00</th>\n",
              "      <td>414.0</td>\n",
              "    </tr>\n",
              "    <tr>\n",
              "      <th>03:00:00</th>\n",
              "      <td>304.0</td>\n",
              "    </tr>\n",
              "    <tr>\n",
              "      <th>04:00:00</th>\n",
              "      <td>335.0</td>\n",
              "    </tr>\n",
              "    <tr>\n",
              "      <th>...</th>\n",
              "      <th>...</th>\n",
              "      <td>...</td>\n",
              "    </tr>\n",
              "    <tr>\n",
              "      <th rowspan=\"5\" valign=\"top\">Wednesday</th>\n",
              "      <th>19:00:00</th>\n",
              "      <td>1067.0</td>\n",
              "    </tr>\n",
              "    <tr>\n",
              "      <th>20:00:00</th>\n",
              "      <td>915.0</td>\n",
              "    </tr>\n",
              "    <tr>\n",
              "      <th>21:00:00</th>\n",
              "      <td>833.0</td>\n",
              "    </tr>\n",
              "    <tr>\n",
              "      <th>22:00:00</th>\n",
              "      <td>774.0</td>\n",
              "    </tr>\n",
              "    <tr>\n",
              "      <th>23:00:00</th>\n",
              "      <td>730.0</td>\n",
              "    </tr>\n",
              "  </tbody>\n",
              "</table>\n",
              "<p>168 rows × 1 columns</p>\n",
              "</div>\n",
              "      <button class=\"colab-df-convert\" onclick=\"convertToInteractive('df-bbc480c7-904e-4f09-a0da-b6fb6bd4f32a')\"\n",
              "              title=\"Convert this dataframe to an interactive table.\"\n",
              "              style=\"display:none;\">\n",
              "        \n",
              "  <svg xmlns=\"http://www.w3.org/2000/svg\" height=\"24px\"viewBox=\"0 0 24 24\"\n",
              "       width=\"24px\">\n",
              "    <path d=\"M0 0h24v24H0V0z\" fill=\"none\"/>\n",
              "    <path d=\"M18.56 5.44l.94 2.06.94-2.06 2.06-.94-2.06-.94-.94-2.06-.94 2.06-2.06.94zm-11 1L8.5 8.5l.94-2.06 2.06-.94-2.06-.94L8.5 2.5l-.94 2.06-2.06.94zm10 10l.94 2.06.94-2.06 2.06-.94-2.06-.94-.94-2.06-.94 2.06-2.06.94z\"/><path d=\"M17.41 7.96l-1.37-1.37c-.4-.4-.92-.59-1.43-.59-.52 0-1.04.2-1.43.59L10.3 9.45l-7.72 7.72c-.78.78-.78 2.05 0 2.83L4 21.41c.39.39.9.59 1.41.59.51 0 1.02-.2 1.41-.59l7.78-7.78 2.81-2.81c.8-.78.8-2.07 0-2.86zM5.41 20L4 18.59l7.72-7.72 1.47 1.35L5.41 20z\"/>\n",
              "  </svg>\n",
              "      </button>\n",
              "      \n",
              "  <style>\n",
              "    .colab-df-container {\n",
              "      display:flex;\n",
              "      flex-wrap:wrap;\n",
              "      gap: 12px;\n",
              "    }\n",
              "\n",
              "    .colab-df-convert {\n",
              "      background-color: #E8F0FE;\n",
              "      border: none;\n",
              "      border-radius: 50%;\n",
              "      cursor: pointer;\n",
              "      display: none;\n",
              "      fill: #1967D2;\n",
              "      height: 32px;\n",
              "      padding: 0 0 0 0;\n",
              "      width: 32px;\n",
              "    }\n",
              "\n",
              "    .colab-df-convert:hover {\n",
              "      background-color: #E2EBFA;\n",
              "      box-shadow: 0px 1px 2px rgba(60, 64, 67, 0.3), 0px 1px 3px 1px rgba(60, 64, 67, 0.15);\n",
              "      fill: #174EA6;\n",
              "    }\n",
              "\n",
              "    [theme=dark] .colab-df-convert {\n",
              "      background-color: #3B4455;\n",
              "      fill: #D2E3FC;\n",
              "    }\n",
              "\n",
              "    [theme=dark] .colab-df-convert:hover {\n",
              "      background-color: #434B5C;\n",
              "      box-shadow: 0px 1px 3px 1px rgba(0, 0, 0, 0.15);\n",
              "      filter: drop-shadow(0px 1px 2px rgba(0, 0, 0, 0.3));\n",
              "      fill: #FFFFFF;\n",
              "    }\n",
              "  </style>\n",
              "\n",
              "      <script>\n",
              "        const buttonEl =\n",
              "          document.querySelector('#df-bbc480c7-904e-4f09-a0da-b6fb6bd4f32a button.colab-df-convert');\n",
              "        buttonEl.style.display =\n",
              "          google.colab.kernel.accessAllowed ? 'block' : 'none';\n",
              "\n",
              "        async function convertToInteractive(key) {\n",
              "          const element = document.querySelector('#df-bbc480c7-904e-4f09-a0da-b6fb6bd4f32a');\n",
              "          const dataTable =\n",
              "            await google.colab.kernel.invokeFunction('convertToInteractive',\n",
              "                                                     [key], {});\n",
              "          if (!dataTable) return;\n",
              "\n",
              "          const docLinkHtml = 'Like what you see? Visit the ' +\n",
              "            '<a target=\"_blank\" href=https://colab.research.google.com/notebooks/data_table.ipynb>data table notebook</a>'\n",
              "            + ' to learn more about interactive tables.';\n",
              "          element.innerHTML = '';\n",
              "          dataTable['output_type'] = 'display_data';\n",
              "          await google.colab.output.renderOutput(dataTable, element);\n",
              "          const docLink = document.createElement('div');\n",
              "          docLink.innerHTML = docLinkHtml;\n",
              "          element.appendChild(docLink);\n",
              "        }\n",
              "      </script>\n",
              "    </div>\n",
              "  </div>\n",
              "  "
            ]
          },
          "metadata": {},
          "execution_count": 9
        }
      ]
    },
    {
      "cell_type": "code",
      "source": [
        "## use this to fill na values \n",
        "fillnan = df_[[\"time_utc\", \"weekday_utc\", \"Débit horaire\", \"Taux d'occupation\"]].groupby([\"weekday_utc\", \"time_utc\"])"
      ],
      "metadata": {
        "id": "Yu1EVFImfoTD"
      },
      "execution_count": 10,
      "outputs": []
    },
    {
      "cell_type": "code",
      "source": [
        "df_['Débit horaire'] = fillnan['Débit horaire'].transform(lambda grp: grp.fillna(np.mean(grp)))\n",
        "\n",
        "df_[\"Taux d'occupation\"] = fillnan[\"Taux d'occupation\"].transform(lambda grp: grp.fillna(np.mean(grp)))"
      ],
      "metadata": {
        "id": "9MKmvV3WKTgb"
      },
      "execution_count": 11,
      "outputs": []
    },
    {
      "cell_type": "code",
      "source": [
        "df_.isnull().sum()"
      ],
      "metadata": {
        "colab": {
          "base_uri": "https://localhost:8080/"
        },
        "id": "nr7wuL6f9A6-",
        "outputId": "6f33486c-9e3a-4fc8-e903-55c3d0502838"
      },
      "execution_count": 12,
      "outputs": [
        {
          "output_type": "execute_result",
          "data": {
            "text/plain": [
              "Libelle              0\n",
              "Débit horaire        0\n",
              "Taux d'occupation    0\n",
              "Etat trafic          0\n",
              "datetime_utc         0\n",
              "date_utc             0\n",
              "time_utc             0\n",
              "weekday_utc          0\n",
              "dtype: int64"
            ]
          },
          "metadata": {},
          "execution_count": 12
        }
      ]
    },
    {
      "cell_type": "code",
      "source": [
        "def backtest(df, test_start, nb_days=5, model='moving_average', nb_weeks=5):\n",
        "  \"\"\"\n",
        "  nb_weeks : parameter of the moving average baseline model\n",
        "  \"\"\"\n",
        "  # create future dates \n",
        "  min_date = test_start\n",
        "  max_date = min_date + timedelta(days = nb_days)\n",
        "\n",
        "  # test dataframe\n",
        "  test = df[(df.date_utc >= min_date) & (df.date_utc < max_date)]\n",
        "  test = test.reset_index(drop = True)\n",
        "\n",
        "  # limit training data with test start date\n",
        "  df_limit = df[(df['date_utc'] < test_start)]\n",
        "\n",
        "  # prepare predicted dataframe\n",
        "  pred = pd.DataFrame(pd.date_range(start=min_date, end=max_date, freq='1H'))\n",
        "  pred.rename(columns = {0:'timestamp'}, inplace = True)\n",
        "  pred[\"date_utc\"] = pd.to_datetime(pred[\"timestamp\"].astype(str), format='%Y%m%d %H:%M:%S', utc=True).dt.date\n",
        "  pred[\"time_utc\"] = pd.to_datetime(pred[\"timestamp\"].astype(str), format='%Y%m%d %H:%M:%S', utc=True).dt.time\n",
        "  pred[\"weekday_utc\"] = pd.to_datetime(pred[\"timestamp\"].astype(str), format='%Y%m%d %H:%M:%S', utc=True).dt.day_name()\n",
        "  pred = pred[:-1]\n",
        "\n",
        "  if model == 'moving_average':\n",
        "    ## Median value on last 5 weeks\n",
        "    max_date = df_limit.date_utc.max()\n",
        "    min_date = max_date - timedelta(days = nb_weeks*7)\n",
        "    #print(\"max \", max_date)\n",
        "    #print(\"min \", min_date)\n",
        "    df_filtered = df_limit[(df_limit.date_utc>min_date) & (df_limit.date_utc<=max_date)]\n",
        "    #print(df_filtered.weekday_utc.value_counts())\n",
        "    feature_debit = df_filtered[[\"time_utc\", \"weekday_utc\", \"Débit horaire\"]].groupby([\"weekday_utc\", \"time_utc\"]).median()\n",
        "    feature_taux = df_filtered[[\"time_utc\", \"weekday_utc\", \"Taux d'occupation\"]].groupby([\"weekday_utc\", \"time_utc\"]).median()\n",
        "    ## Merge the two features \n",
        "    features = pd.merge(feature_debit, feature_taux,  how='left', on=['weekday_utc','time_utc'])\n",
        "\n",
        "  pred = pd.merge(pred, features,  how='left', on=['weekday_utc','time_utc'])\n",
        "\n",
        "  targets = ['Débit horaire', \"Taux d'occupation\"]\n",
        "\n",
        "  rmse = mean_squared_error(test[targets], pred[targets], squared = False)\n",
        "  # print('RMSE')\n",
        "\n",
        "  return round(rmse, 2)"
      ],
      "metadata": {
        "id": "Z_5j50SE1HxY"
      },
      "execution_count": 13,
      "outputs": []
    },
    {
      "cell_type": "code",
      "source": [
        "backtest(df_, test_start=datetime.date(2022, 10, 21))"
      ],
      "metadata": {
        "id": "JKyS74H9ANSs",
        "colab": {
          "base_uri": "https://localhost:8080/"
        },
        "outputId": "a8634193-6de1-4e9e-95cc-6f70fd5efa2d"
      },
      "execution_count": 14,
      "outputs": [
        {
          "output_type": "execute_result",
          "data": {
            "text/plain": [
              "56.48"
            ]
          },
          "metadata": {},
          "execution_count": 14
        }
      ]
    },
    {
      "cell_type": "code",
      "source": [
        "errors = []\n",
        "start_days = []\n",
        "\n",
        "for m in [9, 10, 11]:\n",
        "  for d in [1, 6, 11, 16, 21, 26, 30]:\n",
        "    date = datetime.date(2022, m, d)\n",
        "    try:\n",
        "      errors.append(backtest(df_, date))\n",
        "      start_days.append(date)\n",
        "    except:\n",
        "      pass\n",
        "plt.figure(figsize=(20, 5))\n",
        "plt.plot(start_days, errors)"
      ],
      "metadata": {
        "id": "lt_h4dJ8ANVG",
        "colab": {
          "base_uri": "https://localhost:8080/",
          "height": 337
        },
        "outputId": "bdfeea4c-a231-4a07-8a54-4eee30b83f58"
      },
      "execution_count": 15,
      "outputs": [
        {
          "output_type": "execute_result",
          "data": {
            "text/plain": [
              "[<matplotlib.lines.Line2D at 0x7fb833aedaf0>]"
            ]
          },
          "metadata": {},
          "execution_count": 15
        },
        {
          "output_type": "display_data",
          "data": {
            "text/plain": [
              "<Figure size 1440x360 with 1 Axes>"
            ],
            "image/png": "[encoded data removed]"
          },
          "metadata": {
            "needs_background": "light"
          }
        }
      ]
    },
    {
      "cell_type": "code",
      "source": [],
      "metadata": {
        "id": "cdZzlr7k9wP9"
      },
      "execution_count": 15,
      "outputs": []
    },
    {
      "cell_type": "code",
      "source": [
        "from datetime import datetime  from pathlib import Path​\n",
        "\n",
        "def test_format_and_export_output(output_df, output_directory, name_of_the_group):\n",
        "  output_columns = {\"arc\": object, \"datetime\": object, \"debit_horaire\": float,​ \"taux_occupation\": float}​\n",
        "\n",
        "# 1. Check relevant columns are in output dataframe\n",
        "assert sorted(list(output_df.columns)) == list(​output_columns.keys()​), \"Some columns are missing or unnecessary columns are in output\"\n",
        "\n",
        "# 2. Check types​\n",
        "for col, col_type in output_columns.items():​\n",
        "\n",
        "assert output_df[col].dtype == col_type, f\"Column {col} does not have type​\n",
        "\n",
        "{col_type}\"​\n",
        "\n",
        "# 3. Check datetime string has right format  try:​\n",
        "\n",
        "output_df.datetime.apply(lambda x: datetime.strptime(x, \"%Y-%m-%d %H:%M\"))  except ValueError as e:​\n",
        "\n",
        "raise e​\n",
        "\n",
        "# 4. Check `arc` columns has right values​\n",
        "\n",
        "assert sorted(list(output_df[\"arc\"].unique())) == [  \"Champs-Elysées\",​\n",
        "\n",
        "\"Convention\",​\n",
        "\n",
        "\"Saint-Pères\",​\n",
        "\n",
        "], \"Output does not have expected unique values for column `arc`\"  # 5. Check dataframe has right number of rows​\n",
        "\n",
        "assert output_df.shape[0] == 360, f\"Expected number of rows is 360, output has​\n",
        "\n",
        "{output_df.shape[0]}\"  # 6. Export output​\n",
        "\n",
        "output_path = Path(output_directory) / f\"output_{name_of_the_group}.csv\"  print(f\"[SAVE OUTPUT] Saving output here: {output_path}\")  output_df[output_columns.keys()].to_csv(output_path, sep=\";\")"
      ],
      "metadata": {
        "id": "0yv1fyY79pRP",
        "colab": {
          "base_uri": "https://localhost:8080/",
          "height": 131
        },
        "outputId": "122f7f6f-1154-4bda-ae8d-5a0d98a0f2c3"
      },
      "execution_count": 16,
      "outputs": [
        {
          "output_type": "error",
          "ename": "SyntaxError",
          "evalue": "ignored",
          "traceback": [
            "\u001b[0;36m  File \u001b[0;32m\"<ipython-input-16-7223a6ed400f>\"\u001b[0;36m, line \u001b[0;32m1\u001b[0m\n\u001b[0;31m    from datetime import datetime  from pathlib import Path​\u001b[0m\n\u001b[0m                                   ^\u001b[0m\n\u001b[0;31mSyntaxError\u001b[0m\u001b[0;31m:\u001b[0m invalid syntax\n"
          ]
        }
      ]
    },
    {
      "cell_type": "code",
      "source": [
        "test_format_and_export_output(my_output, \"/Users/pansardcaroline/Desktop\",​\n",
        "\n",
        "\"viguier_dekergaradec_pansard\")"
      ],
      "metadata": {
        "id": "dOsO3QzE-D1w"
      },
      "execution_count": null,
      "outputs": []
    }
  ]
}